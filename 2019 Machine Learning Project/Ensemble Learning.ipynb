{
 "cells": [
  {
   "cell_type": "code",
   "execution_count": 60,
   "metadata": {},
   "outputs": [],
   "source": [
    "# Iris data\n",
    "import seaborn as sns\n",
    "iris = sns.load_dataset('iris')\n",
    "X = iris.drop('species', axis=1)\n",
    "y=iris['species'] \n",
    "\n",
    "from sklearn.preprocessing import LabelEncoder\n",
    "classle=LabelEncoder()\n",
    "y=classle.fit_transform(iris['species'].values) \n",
    "\n",
    "from sklearn.model_selection import train_test_split \n",
    "X_train,X_test,y_train,y_test=train_test_split(X,y, test_size=0.3, random_state=1, stratify=y)\n"
   ]
  },
  {
   "cell_type": "code",
   "execution_count": 12,
   "metadata": {},
   "outputs": [
    {
     "name": "stdout",
     "output_type": "stream",
     "text": [
      "LogisticRegression 0.9777777777777777\n",
      "RandomForestClassifier 0.9777777777777777\n",
      "SVC 0.9777777777777777\n",
      "VotingClassifier 1.0\n"
     ]
    },
    {
     "name": "stderr",
     "output_type": "stream",
     "text": [
      "C:\\Users\\user\\Anaconda3\\lib\\site-packages\\sklearn\\linear_model\\logistic.py:432: FutureWarning: Default solver will be changed to 'lbfgs' in 0.22. Specify a solver to silence this warning.\n",
      "  FutureWarning)\n",
      "C:\\Users\\user\\Anaconda3\\lib\\site-packages\\sklearn\\linear_model\\logistic.py:469: FutureWarning: Default multi_class will be changed to 'auto' in 0.22. Specify the multi_class option to silence this warning.\n",
      "  \"this warning.\", FutureWarning)\n",
      "C:\\Users\\user\\Anaconda3\\lib\\site-packages\\sklearn\\ensemble\\forest.py:245: FutureWarning: The default value of n_estimators will change from 10 in version 0.20 to 100 in 0.22.\n",
      "  \"10 in version 0.20 to 100 in 0.22.\", FutureWarning)\n",
      "C:\\Users\\user\\Anaconda3\\lib\\site-packages\\sklearn\\svm\\base.py:193: FutureWarning: The default value of gamma will change from 'auto' to 'scale' in version 0.22 to account better for unscaled features. Set gamma explicitly to 'auto' or 'scale' to avoid this warning.\n",
      "  \"avoid this warning.\", FutureWarning)\n",
      "C:\\Users\\user\\Anaconda3\\lib\\site-packages\\sklearn\\linear_model\\logistic.py:432: FutureWarning: Default solver will be changed to 'lbfgs' in 0.22. Specify a solver to silence this warning.\n",
      "  FutureWarning)\n",
      "C:\\Users\\user\\Anaconda3\\lib\\site-packages\\sklearn\\linear_model\\logistic.py:469: FutureWarning: Default multi_class will be changed to 'auto' in 0.22. Specify the multi_class option to silence this warning.\n",
      "  \"this warning.\", FutureWarning)\n",
      "C:\\Users\\user\\Anaconda3\\lib\\site-packages\\sklearn\\ensemble\\forest.py:245: FutureWarning: The default value of n_estimators will change from 10 in version 0.20 to 100 in 0.22.\n",
      "  \"10 in version 0.20 to 100 in 0.22.\", FutureWarning)\n",
      "C:\\Users\\user\\Anaconda3\\lib\\site-packages\\sklearn\\svm\\base.py:193: FutureWarning: The default value of gamma will change from 'auto' to 'scale' in version 0.22 to account better for unscaled features. Set gamma explicitly to 'auto' or 'scale' to avoid this warning.\n",
      "  \"avoid this warning.\", FutureWarning)\n",
      "C:\\Users\\user\\Anaconda3\\lib\\site-packages\\sklearn\\linear_model\\logistic.py:432: FutureWarning: Default solver will be changed to 'lbfgs' in 0.22. Specify a solver to silence this warning.\n",
      "  FutureWarning)\n",
      "C:\\Users\\user\\Anaconda3\\lib\\site-packages\\sklearn\\linear_model\\logistic.py:469: FutureWarning: Default multi_class will be changed to 'auto' in 0.22. Specify the multi_class option to silence this warning.\n",
      "  \"this warning.\", FutureWarning)\n",
      "C:\\Users\\user\\Anaconda3\\lib\\site-packages\\sklearn\\svm\\base.py:193: FutureWarning: The default value of gamma will change from 'auto' to 'scale' in version 0.22 to account better for unscaled features. Set gamma explicitly to 'auto' or 'scale' to avoid this warning.\n",
      "  \"avoid this warning.\", FutureWarning)\n"
     ]
    }
   ],
   "source": [
    "# random forest, SVM, logistic regression을 통해 iris 품종을 분류\n",
    "from sklearn.ensemble import RandomForestClassifier #앙상블에서 랜덤포레스트 불러오기\n",
    "from sklearn.ensemble import VotingClassifier \n",
    "from sklearn.linear_model import LogisticRegression\n",
    "from sklearn.svm import SVC  #classify 하려면 svc, 회귀분석 하려면 svm\n",
    "\n",
    "log_cl=LogisticRegression()\n",
    "rf_cl=RandomForestClassifier()\n",
    "svm_cl=SVC()\n",
    "voting_cl=VotingClassifier(estimators=[('lr', log_cl), ('rf', rf_cl), ('svc', svm_cl)],voting='hard')\n",
    "voting_cl.fit(X_train, y_train)\n",
    "\n",
    "from sklearn.metrics import accuracy_score\n",
    "for cl in (log_cl, rf_cl, svm_cl, voting_cl):\n",
    "    cl.fit(X_train, y_train)\n",
    "    y_pred = cl.predict(X_test)\n",
    "    print(cl.__class__.__name__, accuracy_score(y_test, y_pred)) #하나하나 다 찍어줌"
   ]
  },
  {
   "cell_type": "code",
   "execution_count": 61,
   "metadata": {},
   "outputs": [
    {
     "name": "stdout",
     "output_type": "stream",
     "text": [
      "0.9777777777777777\n"
     ]
    }
   ],
   "source": [
    "# Bagging learning - 500개의 decision tree 이용\n",
    "from sklearn.ensemble import BaggingClassifier\n",
    "from sklearn.tree import DecisionTreeClassifier\n",
    "\n",
    "bag_cl = BaggingClassifier(DecisionTreeClassifier(), n_estimators=500, max_samples=100, bootstrap=True)\n",
    "# max_sample은 표본의 크기인데 60%를 이용하려면 max_sample=0.6을 설정.\n",
    "\n",
    "bag_cl.fit(X_train, y_train)\n",
    "y_pred = bag_cl.predict(X_test)\n",
    "\n",
    "from sklearn.metrics import accuracy_score\n",
    "print(accuracy_score(y_test, y_pred))"
   ]
  },
  {
   "cell_type": "code",
   "execution_count": 62,
   "metadata": {},
   "outputs": [
    {
     "name": "stdout",
     "output_type": "stream",
     "text": [
      "0.9333333333333333\n"
     ]
    }
   ],
   "source": [
    "# out_of_bag (oob) 자료를 이용하여 test set의 accuracy 구함\n",
    "# oob 자료는 oob_score = True로 지정.\n",
    "bag_cl2 = BaggingClassifier(DecisionTreeClassifier(), n_estimators=500, n_jobs=-1,bootstrap=True, oob_score=True) #oob=out of bag error 안담기는 것\n",
    "bag_cl2.fit(X_train, y_train)\n",
    "print(bag_cl2.oob_score_)"
   ]
  },
  {
   "cell_type": "code",
   "execution_count": 63,
   "metadata": {},
   "outputs": [
    {
     "name": "stdout",
     "output_type": "stream",
     "text": [
      "Adaboost train/test accuracy 1.000/0.978\n"
     ]
    }
   ],
   "source": [
    "# Iris data에 M=500인 AdaBoost 적용\n",
    "from sklearn.ensemble import AdaBoostClassifier\n",
    "ada_t = AdaBoostClassifier(DecisionTreeClassifier(max_depth=2), n_estimators=500, random_state=1) \n",
    "ada_t.fit(X_train, y_train)\n",
    "y_train_pred=ada_t.predict(X_train)\n",
    "y_test_pred=ada_t.predict(X_test)\n",
    "\n",
    "from sklearn.metrics import accuracy_score\n",
    "ada_train=accuracy_score(y_train, y_train_pred)\n",
    "ada_test=accuracy_score(y_test, y_test_pred)\n",
    "\n",
    "print(\"Adaboost train/test accuracy %0.3f/%0.3f\" %(ada_train, ada_test)) #overestimate 될 정도로 작동을 잘한다"
   ]
  },
  {
   "cell_type": "code",
   "execution_count": 64,
   "metadata": {},
   "outputs": [
    {
     "name": "stdout",
     "output_type": "stream",
     "text": [
      "0.9523809523809523\n",
      "0.9555555555555556\n",
      "1\n"
     ]
    }
   ],
   "source": [
    "# Iris data에 기울기 부스팅 적용\n",
    "from sklearn.ensemble import GradientBoostingClassifier\n",
    "import numpy as np\n",
    "gbcl=GradientBoostingClassifier(n_estimators=100, max_depth=2) # M=100, 나무 깊이=2, 이 식을 구현하기 위해 구조에 대한 근본적인 이해가 되어야함\n",
    "gbcl.fit(X_train, y_train)\n",
    "accuracies=[accuracy_score(y_test,y_pred) for y_pred in gbcl.staged_predict(X_test)] \n",
    "#staged_predict 쓰는 이유? n_estimators=100개 임의로 줬는데(일반적으로 더 많이 줌). 어떤놈이 최선일 지 모름, 어디서 멈춰야 하는 가?\n",
    "best_n_estimator=np.argmax(accuracies) #accuracies 를 정의해 놓고 가장 큰 놈을 best n_estimator라고 한다.\n",
    "gbcl_best=GradientBoostingClassifier(max_depth=2, n_estimators=best_n_estimator)\n",
    "gbcl_best.fit(X_train, y_train)\n",
    "y_train_pred=gbcl_best.predict(X_train)\n",
    "y_test_pred=gbcl_best.predict(X_test)\n",
    "print(accuracy_score(y_train, y_train_pred))\n",
    "print(accuracy_score(y_test, y_test_pred)) #이번엔 오버피팅 안됐다\n",
    "print(best_n_estimator)"
   ]
  },
  {
   "cell_type": "code",
   "execution_count": 114,
   "metadata": {},
   "outputs": [
    {
     "data": {
      "image/png": "[encoded data removed]",
      "text/plain": [
       "<Figure size 360x360 with 1 Axes>"
      ]
     },
     "metadata": {
      "needs_background": "light"
     },
     "output_type": "display_data"
    }
   ],
   "source": [
    "# House data에 회귀나무모형 적용. \n",
    "# 추정된 회귀선이 step 함수 형태의 비선형임을 보여줌.\n",
    "import pandas as pd\n",
    "house = pd.read_csv('https://raw.githubusercontent.com/rasbt/'\n",
    "                 'python-machine-learning-book-2nd-edition'\n",
    "                 '/master/code/ch10/housing.data.txt',header=None,sep='\\s+')\n",
    "house.columns = ['CRIM', 'ZN', 'INDUS', 'CHAS', 'NOX', 'RM', 'AGE', 'DIS', 'RAD', 'TAX', 'PTRATIO', 'B', 'LSTAT', 'MEDV']\n",
    "\n",
    "from sklearn.tree import DecisionTreeRegressor\n",
    "X = house[['LSTAT']].values\n",
    "y = house['MEDV'].values\n",
    "tree = DecisionTreeRegressor(max_depth=4)\n",
    "tree.fit(X, y)\n",
    "sort_idx = X.flatten().argsort()\n",
    "\n",
    "def lin_regplot(X, y, model):\n",
    "    plt.scatter(X, y, c='steelblue', edgecolor='white', s=70)\n",
    "    plt.plot(X, model.predict(X), color='black', lw=2)\n",
    "    return None\n",
    "\n",
    "import matplotlib.pyplot as plt\n",
    "lin_regplot(X[sort_idx], y[sort_idx], tree)\n",
    "plt.xlabel('% lower status of the population [LSTAT]')\n",
    "plt.ylabel('Price in $1000s [MEDV]')\n",
    "plt.show() #dept를 늘리면 이 스텝선이 부드러워진다. 얼마든지 만들어볼 수 있다. \n",
    "#앙상블러닝은 여태 배운 모든것을 이용할 수 있지만, 그 논리와 접근방법을 이해하기 너무 힘들다 따라서 내가 올린 피디에프를 봐라. 예시참조"
   ]
  },
  {
   "cell_type": "code",
   "execution_count": 115,
   "metadata": {},
   "outputs": [
    {
     "name": "stdout",
     "output_type": "stream",
     "text": [
      "MSE train : 1.573, test: 8.316\n",
      "R**2 train : 0.981, test: 0.909\n"
     ]
    }
   ],
   "source": [
    "# House data에 random forest 모형을 적용.\n",
    "# 1000개의 회귀나무를 이용하며 노드를 분류할 때 MSE 사용. svm이나 regression보다 나을 것\n",
    "X=house.iloc[:, :-1].values\n",
    "y=house['MEDV'].values\n",
    "\n",
    "from sklearn.model_selection import train_test_split\n",
    "X_train, X_test, y_train, y_test = train_test_split(X, y, test_size=0.3, random_state=1)\n",
    "\n",
    "from sklearn.ensemble import RandomForestRegressor\n",
    "forest=RandomForestRegressor(n_estimators=500, criterion='mse', random_state=1)\n",
    "forest.fit(X_train, y_train)\n",
    "y_train_pred=forest.predict(X_train)\n",
    "y_test_pred=forest.predict(X_test)\n",
    "\n",
    "from sklearn.metrics import mean_squared_error\n",
    "from sklearn.metrics import r2_score\n",
    "print('MSE train : %0.3f, test: %0.3f' %(mean_squared_error(y_train, y_train_pred), mean_squared_error(y_test, y_test_pred)))\n",
    "print('R**2 train : %0.3f, test: %0.3f' %(r2_score(y_train, y_train_pred), r2_score(y_test, y_test_pred)))"
   ]
  },
  {
   "cell_type": "code",
   "execution_count": 67,
   "metadata": {},
   "outputs": [
    {
     "data": {
      "image/png": "[encoded data removed]",
      "text/plain": [
       "<Figure size 360x360 with 1 Axes>"
      ]
     },
     "metadata": {
      "needs_background": "light"
     },
     "output_type": "display_data"
    }
   ],
   "source": [
    "plt.scatter(y_train_pred, y_train_pred - y_train,marker='o',label='Training data')\n",
    "plt.scatter(y_test_pred,y_test_pred - y_test,marker='s',label='Test data')\n",
    "plt.xlabel('Predicted values')\n",
    "plt.ylabel('Residuals') #outlier들이 많은 것을 볼 수 있음. 얘네를 없애야 fit이 잘 될것임. 이 outlier들이 무엇인가? 분석하는 것도 통계학\n",
    "plt.legend(loc='upper left')\n",
    "plt.hlines(y=0, xmin=-10, xmax=50, lw=2)\n",
    "plt.xlim([-10, 50]) \n",
    "plt.show()"
   ]
  },
  {
   "cell_type": "code",
   "execution_count": 68,
   "metadata": {},
   "outputs": [
    {
     "data": {
      "text/html": [
       "<div>\n",
       "<style scoped>\n",
       "    .dataframe tbody tr th:only-of-type {\n",
       "        vertical-align: middle;\n",
       "    }\n",
       "\n",
       "    .dataframe tbody tr th {\n",
       "        vertical-align: top;\n",
       "    }\n",
       "\n",
       "    .dataframe thead th {\n",
       "        text-align: right;\n",
       "    }\n",
       "</style>\n",
       "<table border=\"1\" class=\"dataframe\">\n",
       "  <thead>\n",
       "    <tr style=\"text-align: right;\">\n",
       "      <th></th>\n",
       "      <th>CRIM</th>\n",
       "      <th>ZN</th>\n",
       "      <th>INDUS</th>\n",
       "      <th>CHAS</th>\n",
       "      <th>NOX</th>\n",
       "      <th>RM</th>\n",
       "      <th>AGE</th>\n",
       "      <th>DIS</th>\n",
       "      <th>RAD</th>\n",
       "      <th>TAX</th>\n",
       "      <th>PTRATIO</th>\n",
       "      <th>B</th>\n",
       "      <th>LSTAT</th>\n",
       "      <th>MEDV</th>\n",
       "    </tr>\n",
       "  </thead>\n",
       "  <tbody>\n",
       "    <tr>\n",
       "      <th>0</th>\n",
       "      <td>0.00632</td>\n",
       "      <td>18.0</td>\n",
       "      <td>2.31</td>\n",
       "      <td>0</td>\n",
       "      <td>0.538</td>\n",
       "      <td>6.575</td>\n",
       "      <td>65.2</td>\n",
       "      <td>4.0900</td>\n",
       "      <td>1</td>\n",
       "      <td>296.0</td>\n",
       "      <td>15.3</td>\n",
       "      <td>396.90</td>\n",
       "      <td>4.98</td>\n",
       "      <td>24.0</td>\n",
       "    </tr>\n",
       "    <tr>\n",
       "      <th>1</th>\n",
       "      <td>0.02731</td>\n",
       "      <td>0.0</td>\n",
       "      <td>7.07</td>\n",
       "      <td>0</td>\n",
       "      <td>0.469</td>\n",
       "      <td>6.421</td>\n",
       "      <td>78.9</td>\n",
       "      <td>4.9671</td>\n",
       "      <td>2</td>\n",
       "      <td>242.0</td>\n",
       "      <td>17.8</td>\n",
       "      <td>396.90</td>\n",
       "      <td>9.14</td>\n",
       "      <td>21.6</td>\n",
       "    </tr>\n",
       "    <tr>\n",
       "      <th>2</th>\n",
       "      <td>0.02729</td>\n",
       "      <td>0.0</td>\n",
       "      <td>7.07</td>\n",
       "      <td>0</td>\n",
       "      <td>0.469</td>\n",
       "      <td>7.185</td>\n",
       "      <td>61.1</td>\n",
       "      <td>4.9671</td>\n",
       "      <td>2</td>\n",
       "      <td>242.0</td>\n",
       "      <td>17.8</td>\n",
       "      <td>392.83</td>\n",
       "      <td>4.03</td>\n",
       "      <td>34.7</td>\n",
       "    </tr>\n",
       "    <tr>\n",
       "      <th>3</th>\n",
       "      <td>0.03237</td>\n",
       "      <td>0.0</td>\n",
       "      <td>2.18</td>\n",
       "      <td>0</td>\n",
       "      <td>0.458</td>\n",
       "      <td>6.998</td>\n",
       "      <td>45.8</td>\n",
       "      <td>6.0622</td>\n",
       "      <td>3</td>\n",
       "      <td>222.0</td>\n",
       "      <td>18.7</td>\n",
       "      <td>394.63</td>\n",
       "      <td>2.94</td>\n",
       "      <td>33.4</td>\n",
       "    </tr>\n",
       "    <tr>\n",
       "      <th>4</th>\n",
       "      <td>0.06905</td>\n",
       "      <td>0.0</td>\n",
       "      <td>2.18</td>\n",
       "      <td>0</td>\n",
       "      <td>0.458</td>\n",
       "      <td>7.147</td>\n",
       "      <td>54.2</td>\n",
       "      <td>6.0622</td>\n",
       "      <td>3</td>\n",
       "      <td>222.0</td>\n",
       "      <td>18.7</td>\n",
       "      <td>396.90</td>\n",
       "      <td>5.33</td>\n",
       "      <td>36.2</td>\n",
       "    </tr>\n",
       "  </tbody>\n",
       "</table>\n",
       "</div>"
      ],
      "text/plain": [
       "      CRIM    ZN  INDUS  CHAS    NOX     RM   AGE     DIS  RAD    TAX  \\\n",
       "0  0.00632  18.0   2.31     0  0.538  6.575  65.2  4.0900    1  296.0   \n",
       "1  0.02731   0.0   7.07     0  0.469  6.421  78.9  4.9671    2  242.0   \n",
       "2  0.02729   0.0   7.07     0  0.469  7.185  61.1  4.9671    2  242.0   \n",
       "3  0.03237   0.0   2.18     0  0.458  6.998  45.8  6.0622    3  222.0   \n",
       "4  0.06905   0.0   2.18     0  0.458  7.147  54.2  6.0622    3  222.0   \n",
       "\n",
       "   PTRATIO       B  LSTAT  MEDV  \n",
       "0     15.3  396.90   4.98  24.0  \n",
       "1     17.8  396.90   9.14  21.6  \n",
       "2     17.8  392.83   4.03  34.7  \n",
       "3     18.7  394.63   2.94  33.4  \n",
       "4     18.7  396.90   5.33  36.2  "
      ]
     },
     "execution_count": 68,
     "metadata": {},
     "output_type": "execute_result"
    }
   ],
   "source": [
    "import pandas as pd\n",
    "house = pd.read_csv('https://raw.githubusercontent.com/rasbt/'\n",
    "                 'python-machine-learning-book-2nd-edition'\n",
    "                 '/master/code/ch10/housing.data.txt',header=None,sep='\\s+')\n",
    "house.columns = ['CRIM', 'ZN', 'INDUS', 'CHAS', 'NOX', 'RM', 'AGE', 'DIS', 'RAD', 'TAX', 'PTRATIO', 'B', 'LSTAT', 'MEDV']\n",
    "house.head()\n"
   ]
  },
  {
   "cell_type": "code",
   "execution_count": 69,
   "metadata": {},
   "outputs": [
    {
     "name": "stdout",
     "output_type": "stream",
     "text": [
      "<class 'pandas.core.frame.DataFrame'>\n",
      "RangeIndex: 506 entries, 0 to 505\n",
      "Data columns (total 14 columns):\n",
      "CRIM       506 non-null float64\n",
      "ZN         506 non-null float64\n",
      "INDUS      506 non-null float64\n",
      "CHAS       506 non-null int64\n",
      "NOX        506 non-null float64\n",
      "RM         506 non-null float64\n",
      "AGE        506 non-null float64\n",
      "DIS        506 non-null float64\n",
      "RAD        506 non-null int64\n",
      "TAX        506 non-null float64\n",
      "PTRATIO    506 non-null float64\n",
      "B          506 non-null float64\n",
      "LSTAT      506 non-null float64\n",
      "MEDV       506 non-null float64\n",
      "dtypes: float64(12), int64(2)\n",
      "memory usage: 55.4 KB\n",
      "None\n"
     ]
    }
   ],
   "source": [
    "print(house.info()) # info() function으로 missing이 있냐/없냐, 데이터타입 등 알려줌"
   ]
  },
  {
   "cell_type": "code",
   "execution_count": 70,
   "metadata": {
    "scrolled": true
   },
   "outputs": [
    {
     "data": {
      "text/html": [
       "<div>\n",
       "<style scoped>\n",
       "    .dataframe tbody tr th:only-of-type {\n",
       "        vertical-align: middle;\n",
       "    }\n",
       "\n",
       "    .dataframe tbody tr th {\n",
       "        vertical-align: top;\n",
       "    }\n",
       "\n",
       "    .dataframe thead th {\n",
       "        text-align: right;\n",
       "    }\n",
       "</style>\n",
       "<table border=\"1\" class=\"dataframe\">\n",
       "  <thead>\n",
       "    <tr style=\"text-align: right;\">\n",
       "      <th></th>\n",
       "      <th>CRIM</th>\n",
       "      <th>ZN</th>\n",
       "      <th>INDUS</th>\n",
       "      <th>CHAS</th>\n",
       "      <th>NOX</th>\n",
       "      <th>RM</th>\n",
       "      <th>AGE</th>\n",
       "      <th>DIS</th>\n",
       "      <th>RAD</th>\n",
       "      <th>TAX</th>\n",
       "      <th>PTRATIO</th>\n",
       "      <th>B</th>\n",
       "      <th>LSTAT</th>\n",
       "      <th>MEDV</th>\n",
       "    </tr>\n",
       "  </thead>\n",
       "  <tbody>\n",
       "    <tr>\n",
       "      <th>count</th>\n",
       "      <td>506.000000</td>\n",
       "      <td>506.000000</td>\n",
       "      <td>506.000000</td>\n",
       "      <td>506.000000</td>\n",
       "      <td>506.000000</td>\n",
       "      <td>506.000000</td>\n",
       "      <td>506.000000</td>\n",
       "      <td>506.000000</td>\n",
       "      <td>506.000000</td>\n",
       "      <td>506.000000</td>\n",
       "      <td>506.000000</td>\n",
       "      <td>506.000000</td>\n",
       "      <td>506.000000</td>\n",
       "      <td>506.000000</td>\n",
       "    </tr>\n",
       "    <tr>\n",
       "      <th>mean</th>\n",
       "      <td>3.613524</td>\n",
       "      <td>11.363636</td>\n",
       "      <td>11.136779</td>\n",
       "      <td>0.069170</td>\n",
       "      <td>0.554695</td>\n",
       "      <td>6.284634</td>\n",
       "      <td>68.574901</td>\n",
       "      <td>3.795043</td>\n",
       "      <td>9.549407</td>\n",
       "      <td>408.237154</td>\n",
       "      <td>18.455534</td>\n",
       "      <td>356.674032</td>\n",
       "      <td>12.653063</td>\n",
       "      <td>22.532806</td>\n",
       "    </tr>\n",
       "    <tr>\n",
       "      <th>std</th>\n",
       "      <td>8.601545</td>\n",
       "      <td>23.322453</td>\n",
       "      <td>6.860353</td>\n",
       "      <td>0.253994</td>\n",
       "      <td>0.115878</td>\n",
       "      <td>0.702617</td>\n",
       "      <td>28.148861</td>\n",
       "      <td>2.105710</td>\n",
       "      <td>8.707259</td>\n",
       "      <td>168.537116</td>\n",
       "      <td>2.164946</td>\n",
       "      <td>91.294864</td>\n",
       "      <td>7.141062</td>\n",
       "      <td>9.197104</td>\n",
       "    </tr>\n",
       "    <tr>\n",
       "      <th>min</th>\n",
       "      <td>0.006320</td>\n",
       "      <td>0.000000</td>\n",
       "      <td>0.460000</td>\n",
       "      <td>0.000000</td>\n",
       "      <td>0.385000</td>\n",
       "      <td>3.561000</td>\n",
       "      <td>2.900000</td>\n",
       "      <td>1.129600</td>\n",
       "      <td>1.000000</td>\n",
       "      <td>187.000000</td>\n",
       "      <td>12.600000</td>\n",
       "      <td>0.320000</td>\n",
       "      <td>1.730000</td>\n",
       "      <td>5.000000</td>\n",
       "    </tr>\n",
       "    <tr>\n",
       "      <th>25%</th>\n",
       "      <td>0.082045</td>\n",
       "      <td>0.000000</td>\n",
       "      <td>5.190000</td>\n",
       "      <td>0.000000</td>\n",
       "      <td>0.449000</td>\n",
       "      <td>5.885500</td>\n",
       "      <td>45.025000</td>\n",
       "      <td>2.100175</td>\n",
       "      <td>4.000000</td>\n",
       "      <td>279.000000</td>\n",
       "      <td>17.400000</td>\n",
       "      <td>375.377500</td>\n",
       "      <td>6.950000</td>\n",
       "      <td>17.025000</td>\n",
       "    </tr>\n",
       "    <tr>\n",
       "      <th>50%</th>\n",
       "      <td>0.256510</td>\n",
       "      <td>0.000000</td>\n",
       "      <td>9.690000</td>\n",
       "      <td>0.000000</td>\n",
       "      <td>0.538000</td>\n",
       "      <td>6.208500</td>\n",
       "      <td>77.500000</td>\n",
       "      <td>3.207450</td>\n",
       "      <td>5.000000</td>\n",
       "      <td>330.000000</td>\n",
       "      <td>19.050000</td>\n",
       "      <td>391.440000</td>\n",
       "      <td>11.360000</td>\n",
       "      <td>21.200000</td>\n",
       "    </tr>\n",
       "    <tr>\n",
       "      <th>75%</th>\n",
       "      <td>3.677082</td>\n",
       "      <td>12.500000</td>\n",
       "      <td>18.100000</td>\n",
       "      <td>0.000000</td>\n",
       "      <td>0.624000</td>\n",
       "      <td>6.623500</td>\n",
       "      <td>94.075000</td>\n",
       "      <td>5.188425</td>\n",
       "      <td>24.000000</td>\n",
       "      <td>666.000000</td>\n",
       "      <td>20.200000</td>\n",
       "      <td>396.225000</td>\n",
       "      <td>16.955000</td>\n",
       "      <td>25.000000</td>\n",
       "    </tr>\n",
       "    <tr>\n",
       "      <th>max</th>\n",
       "      <td>88.976200</td>\n",
       "      <td>100.000000</td>\n",
       "      <td>27.740000</td>\n",
       "      <td>1.000000</td>\n",
       "      <td>0.871000</td>\n",
       "      <td>8.780000</td>\n",
       "      <td>100.000000</td>\n",
       "      <td>12.126500</td>\n",
       "      <td>24.000000</td>\n",
       "      <td>711.000000</td>\n",
       "      <td>22.000000</td>\n",
       "      <td>396.900000</td>\n",
       "      <td>37.970000</td>\n",
       "      <td>50.000000</td>\n",
       "    </tr>\n",
       "  </tbody>\n",
       "</table>\n",
       "</div>"
      ],
      "text/plain": [
       "             CRIM          ZN       INDUS        CHAS         NOX          RM  \\\n",
       "count  506.000000  506.000000  506.000000  506.000000  506.000000  506.000000   \n",
       "mean     3.613524   11.363636   11.136779    0.069170    0.554695    6.284634   \n",
       "std      8.601545   23.322453    6.860353    0.253994    0.115878    0.702617   \n",
       "min      0.006320    0.000000    0.460000    0.000000    0.385000    3.561000   \n",
       "25%      0.082045    0.000000    5.190000    0.000000    0.449000    5.885500   \n",
       "50%      0.256510    0.000000    9.690000    0.000000    0.538000    6.208500   \n",
       "75%      3.677082   12.500000   18.100000    0.000000    0.624000    6.623500   \n",
       "max     88.976200  100.000000   27.740000    1.000000    0.871000    8.780000   \n",
       "\n",
       "              AGE         DIS         RAD         TAX     PTRATIO           B  \\\n",
       "count  506.000000  506.000000  506.000000  506.000000  506.000000  506.000000   \n",
       "mean    68.574901    3.795043    9.549407  408.237154   18.455534  356.674032   \n",
       "std     28.148861    2.105710    8.707259  168.537116    2.164946   91.294864   \n",
       "min      2.900000    1.129600    1.000000  187.000000   12.600000    0.320000   \n",
       "25%     45.025000    2.100175    4.000000  279.000000   17.400000  375.377500   \n",
       "50%     77.500000    3.207450    5.000000  330.000000   19.050000  391.440000   \n",
       "75%     94.075000    5.188425   24.000000  666.000000   20.200000  396.225000   \n",
       "max    100.000000   12.126500   24.000000  711.000000   22.000000  396.900000   \n",
       "\n",
       "            LSTAT        MEDV  \n",
       "count  506.000000  506.000000  \n",
       "mean    12.653063   22.532806  \n",
       "std      7.141062    9.197104  \n",
       "min      1.730000    5.000000  \n",
       "25%      6.950000   17.025000  \n",
       "50%     11.360000   21.200000  \n",
       "75%     16.955000   25.000000  \n",
       "max     37.970000   50.000000  "
      ]
     },
     "execution_count": 70,
     "metadata": {},
     "output_type": "execute_result"
    }
   ],
   "source": [
    "house.describe() #오랜만에 보는 describe function"
   ]
  },
  {
   "cell_type": "code",
   "execution_count": 6,
   "metadata": {},
   "outputs": [
    {
     "name": "stdout",
     "output_type": "stream",
     "text": [
      "Collecting package metadata (current_repodata.json): ...working... done\n",
      "Solving environment: ...working... done\n",
      "\n",
      "## Package Plan ##\n",
      "\n",
      "  environment location: C:\\Users\\user\\Anaconda3\n",
      "\n",
      "  added / updated specs:\n",
      "    - py-xgboost\n",
      "\n",
      "\n",
      "The following packages will be downloaded:\n",
      "\n",
      "    package                    |            build\n",
      "    ---------------------------|-----------------\n",
      "    _py-xgboost-mutex-2.0      |            cpu_0          12 KB  anaconda\n",
      "    conda-4.7.12               |           py37_0         3.0 MB  anaconda\n",
      "    libxgboost-0.90            |                1         3.9 MB  anaconda\n",
      "    openssl-1.1.1c             |       he774522_1         5.7 MB  anaconda\n",
      "    py-xgboost-0.90            |           py37_1          80 KB  anaconda\n",
      "    ------------------------------------------------------------\n",
      "                                           Total:        12.7 MB\n",
      "\n",
      "The following NEW packages will be INSTALLED:\n",
      "\n",
      "  _py-xgboost-mutex  anaconda/win-64::_py-xgboost-mutex-2.0-cpu_0\n",
      "  libxgboost         anaconda/win-64::libxgboost-0.90-1\n",
      "  py-xgboost         anaconda/win-64::py-xgboost-0.90-py37_1\n",
      "\n",
      "The following packages will be UPDATED:\n",
      "\n",
      "  conda                      pkgs/main::conda-4.7.10-py37_0 --> anaconda::conda-4.7.12-py37_0\n",
      "\n",
      "The following packages will be SUPERSEDED by a higher-priority channel:\n",
      "\n",
      "  openssl                                         pkgs/main --> anaconda\n",
      "\n",
      "\n",
      "\n",
      "Downloading and Extracting Packages\n",
      "\n",
      "_py-xgboost-mutex-2. | 12 KB     |            |   0% \n",
      "_py-xgboost-mutex-2. | 12 KB     | ########## | 100% \n",
      "\n",
      "conda-4.7.12         | 3.0 MB    |            |   0% \n",
      "conda-4.7.12         | 3.0 MB    | ######5    |  66% \n",
      "conda-4.7.12         | 3.0 MB    | ########## | 100% \n",
      "\n",
      "openssl-1.1.1c       | 5.7 MB    |            |   0% \n",
      "openssl-1.1.1c       | 5.7 MB    | ####       |  40% \n",
      "openssl-1.1.1c       | 5.7 MB    | ########5  |  85% \n",
      "openssl-1.1.1c       | 5.7 MB    | ########## | 100% \n",
      "\n",
      "libxgboost-0.90      | 3.9 MB    |            |   0% \n",
      "libxgboost-0.90      | 3.9 MB    |            |   0% \n",
      "libxgboost-0.90      | 3.9 MB    | #######2   |  72% \n",
      "libxgboost-0.90      | 3.9 MB    | ########## | 100% \n",
      "\n",
      "py-xgboost-0.90      | 80 KB     |            |   0% \n",
      "py-xgboost-0.90      | 80 KB     | ########## | 100% \n",
      "Preparing transaction: ...working... done\n",
      "Verifying transaction: ...working... done\n",
      "Executing transaction: ...working... done\n",
      "\n",
      "Note: you may need to restart the kernel to use updated packages.\n"
     ]
    },
    {
     "name": "stderr",
     "output_type": "stream",
     "text": [
      "\n",
      "\n",
      "==> WARNING: A newer version of conda exists. <==\n",
      "  current version: 4.7.10\n",
      "  latest version: 4.7.12\n",
      "\n",
      "Please update conda by running\n",
      "\n",
      "    $ conda update -n base -c defaults conda\n",
      "\n",
      "\n"
     ]
    }
   ],
   "source": [
    "conda install -c anaconda py-xgboost"
   ]
  },
  {
   "cell_type": "code",
   "execution_count": 71,
   "metadata": {},
   "outputs": [
    {
     "name": "stdout",
     "output_type": "stream",
     "text": [
      "RMSE train : 2.021, test: 3.302\n"
     ]
    }
   ],
   "source": [
    "# House data에 xboost 적용.\n",
    "import xgboost as xgb #xgboost 알아서 다운 받아라\n",
    "from sklearn.metrics import mean_squared_error\n",
    "import pandas as pd\n",
    "import numpy as np\n",
    "\n",
    "X=house.iloc[:, :-1].values\n",
    "y=house['MEDV'].values\n",
    "data_dim=xgb.DMatrix(data=X, label=y)\n",
    "from sklearn.model_selection import train_test_split\n",
    "X_train, X_test, y_train, y_test = train_test_split(X, y, test_size=0.3, random_state=1)\n",
    "\n",
    "xg_reg=xgb.XGBRegressor(objective='reg:squarederror',booster='gbtree',colsample_bytree=0.75, learning_rate=0.1,max_depth=5, alpha=10, n_estimators=30)\n",
    "#빨리 돌아가게 하려고 30만 하게함, 이런 옵션을 어떻게 사용하는지 이해하는 것이 중요. sqared loss 말고 다른 옵션도 알아봐라.\n",
    "xg_reg.fit(X_train, y_train)\n",
    "pred_train=xg_reg.predict(X_train)\n",
    "pred_test=xg_reg.predict(X_test)\n",
    "rmse_train=np.sqrt(mean_squared_error(y_train,pred_train))\n",
    "rmse_test=np.sqrt(mean_squared_error(y_test,pred_test))\n",
    "print('RMSE train : %0.3f, test: %0.3f' %(rmse_train, rmse_test))"
   ]
  },
  {
   "cell_type": "code",
   "execution_count": 76,
   "metadata": {},
   "outputs": [],
   "source": [
    "??xgb.XGBRegressor"
   ]
  },
  {
   "cell_type": "code",
   "execution_count": 75,
   "metadata": {},
   "outputs": [
    {
     "name": "stdout",
     "output_type": "stream",
     "text": [
      "RMSE train : 7.566, test: 8.430\n"
     ]
    }
   ],
   "source": [
    "xg_reg1=xgb.XGBRegressor(objective='reg:tweedie',booster='gbtree',colsample_bytree=0.75, learning_rate=0.1,max_depth=5, alpha=10, n_estimators=30)\n",
    "xg_reg1.fit(X_train, y_train)\n",
    "pred_train1=xg_reg1.predict(X_train)\n",
    "pred_test1=xg_reg1.predict(X_test)\n",
    "rmse_train1=np.sqrt(mean_squared_error(y_train,pred_train1))\n",
    "rmse_test1=np.sqrt(mean_squared_error(y_test,pred_test1))\n",
    "print('RMSE train : %0.3f, test: %0.3f' %(rmse_train1, rmse_test1))"
   ]
  },
  {
   "cell_type": "code",
   "execution_count": 79,
   "metadata": {},
   "outputs": [
    {
     "name": "stdout",
     "output_type": "stream",
     "text": [
      "RMSE train : 17.596, test: 18.390\n"
     ]
    }
   ],
   "source": [
    "xg_reg2=xgb.XGBRegressor(objective='reg:gamma',booster='gbtree',colsample_bytree=0.75, learning_rate=0.1,max_depth=5, alpha=10, n_estimators=30)\n",
    "xg_reg2.fit(X_train, y_train)\n",
    "pred_train2=xg_reg2.predict(X_train)\n",
    "pred_test2=xg_reg2.predict(X_test)\n",
    "rmse_train2=np.sqrt(mean_squared_error(y_train,pred_train2))\n",
    "rmse_test2=np.sqrt(mean_squared_error(y_test,pred_test2))\n",
    "print('RMSE train : %0.3f, test: %0.3f' %(rmse_train2, rmse_test2))"
   ]
  },
  {
   "cell_type": "code",
   "execution_count": 80,
   "metadata": {},
   "outputs": [
    {
     "name": "stdout",
     "output_type": "stream",
     "text": [
      "RMSE train : 7.082, test: 7.794\n"
     ]
    }
   ],
   "source": [
    "xg_reg=xgb.XGBRegressor(objective='reg:squarederror',booster='gblinear',colsample_bytree=0.75, learning_rate=0.1,max_depth=5, alpha=10, n_estimators=30)\n",
    "xg_reg.fit(X_train, y_train)\n",
    "pred_train=xg_reg.predict(X_train)\n",
    "pred_test=xg_reg.predict(X_test)\n",
    "rmse_train=np.sqrt(mean_squared_error(y_train,pred_train))\n",
    "rmse_test=np.sqrt(mean_squared_error(y_test,pred_test))\n",
    "print('RMSE train : %0.3f, test: %0.3f' %(rmse_train, rmse_test))"
   ]
  },
  {
   "cell_type": "code",
   "execution_count": 86,
   "metadata": {},
   "outputs": [
    {
     "name": "stdout",
     "output_type": "stream",
     "text": [
      "RMSE train : 1.131, test: 2.974\n"
     ]
    }
   ],
   "source": [
    "xg_reg=xgb.XGBRegressor(objective='reg:squarederror',booster='dart',colsample_bytree=0.75, learning_rate=0.1,max_depth=5, alpha=10, n_estimators=50)\n",
    "xg_reg.fit(X_train, y_train)\n",
    "pred_train=xg_reg.predict(X_train)\n",
    "pred_test=xg_reg.predict(X_test)\n",
    "rmse_train=np.sqrt(mean_squared_error(y_train,pred_train))\n",
    "rmse_test=np.sqrt(mean_squared_error(y_test,pred_test))\n",
    "print('RMSE train : %0.3f, test: %0.3f' %(rmse_train, rmse_test))"
   ]
  },
  {
   "cell_type": "code",
   "execution_count": 95,
   "metadata": {},
   "outputs": [
    {
     "name": "stdout",
     "output_type": "stream",
     "text": [
      "Lasso score on training set:  (4.849091741498767, 4.4509584593941)\n"
     ]
    }
   ],
   "source": [
    "from sklearn.linear_model import Lasso\n",
    "lasso_reg = Lasso(alpha=0.001, max_iter=50000)\n",
    "lasso_reg.fit(X_train, y_train)\n",
    "pred_train = lasso_reg.predict(X_train)\n",
    "pred_test = lasso_reg.predict(X_test)\n",
    "lasso_rmse_train=np.sqrt(mean_squared_error(y_train,pred_train))\n",
    "lasso_rmse_test=np.sqrt(mean_squared_error(y_test,pred_test))\n",
    "print(\"Lasso score on training set: \", (lasso_rmse_train, lasso_rmse_test))"
   ]
  },
  {
   "cell_type": "code",
   "execution_count": 91,
   "metadata": {},
   "outputs": [],
   "source": [
    "?Lasso"
   ]
  },
  {
   "cell_type": "code",
   "execution_count": 24,
   "metadata": {},
   "outputs": [
    {
     "data": {
      "text/html": [
       "<div>\n",
       "<style scoped>\n",
       "    .dataframe tbody tr th:only-of-type {\n",
       "        vertical-align: middle;\n",
       "    }\n",
       "\n",
       "    .dataframe tbody tr th {\n",
       "        vertical-align: top;\n",
       "    }\n",
       "\n",
       "    .dataframe thead th {\n",
       "        text-align: right;\n",
       "    }\n",
       "</style>\n",
       "<table border=\"1\" class=\"dataframe\">\n",
       "  <thead>\n",
       "    <tr style=\"text-align: right;\">\n",
       "      <th></th>\n",
       "      <th>train-rmse-mean</th>\n",
       "      <th>train-rmse-std</th>\n",
       "      <th>test-rmse-mean</th>\n",
       "      <th>test-rmse-std</th>\n",
       "    </tr>\n",
       "  </thead>\n",
       "  <tbody>\n",
       "    <tr>\n",
       "      <th>0</th>\n",
       "      <td>17.164081</td>\n",
       "      <td>0.217703</td>\n",
       "      <td>17.333974</td>\n",
       "      <td>1.186204</td>\n",
       "    </tr>\n",
       "    <tr>\n",
       "      <th>1</th>\n",
       "      <td>12.636279</td>\n",
       "      <td>0.130156</td>\n",
       "      <td>12.931914</td>\n",
       "      <td>1.279096</td>\n",
       "    </tr>\n",
       "    <tr>\n",
       "      <th>2</th>\n",
       "      <td>9.460948</td>\n",
       "      <td>0.088331</td>\n",
       "      <td>9.860570</td>\n",
       "      <td>1.286133</td>\n",
       "    </tr>\n",
       "    <tr>\n",
       "      <th>3</th>\n",
       "      <td>7.261621</td>\n",
       "      <td>0.039638</td>\n",
       "      <td>7.872672</td>\n",
       "      <td>1.216185</td>\n",
       "    </tr>\n",
       "    <tr>\n",
       "      <th>4</th>\n",
       "      <td>5.697459</td>\n",
       "      <td>0.062204</td>\n",
       "      <td>6.600069</td>\n",
       "      <td>1.238524</td>\n",
       "    </tr>\n",
       "  </tbody>\n",
       "</table>\n",
       "</div>"
      ],
      "text/plain": [
       "   train-rmse-mean  train-rmse-std  test-rmse-mean  test-rmse-std\n",
       "0        17.164081        0.217703       17.333974       1.186204\n",
       "1        12.636279        0.130156       12.931914       1.279096\n",
       "2         9.460948        0.088331        9.860570       1.286133\n",
       "3         7.261621        0.039638        7.872672       1.216185\n",
       "4         5.697459        0.062204        6.600069       1.238524"
      ]
     },
     "execution_count": 24,
     "metadata": {},
     "output_type": "execute_result"
    }
   ],
   "source": [
    "paras={'objective':'reg:squarederror','colsample_bytree':0.6,'max_depth':5, 'alpha':10}\n",
    "data_dim1=xgb.DMatrix(data=X_train,label=y_train)\n",
    "cv_result=xgb.cv(dtrain=data_dim1, params=paras, nfold=5,num_boost_round=60, \n",
    "                 early_stopping_rounds=20,metrics='rmse', as_pandas=True, seed=1) #뭐가 제일 좋은지 알고 싶다, \n",
    "#nfold=5개 fold로 나눈 것, num_boost_round=boost 몇번이나 할 것인가, early_stopping_rounds=20번 내내 돌아간다면 stop 등등 옵션 살펴봐라\n",
    "cv_result.head()\n",
    "\n"
   ]
  },
  {
   "cell_type": "code",
   "execution_count": 25,
   "metadata": {},
   "outputs": [
    {
     "name": "stdout",
     "output_type": "stream",
     "text": [
      "59    3.970484\n",
      "Name: test-rmse-mean, dtype: float64\n"
     ]
    }
   ],
   "source": [
    "print(cv_result['test-rmse-mean'].tail(1))"
   ]
  },
  {
   "cell_type": "code",
   "execution_count": 26,
   "metadata": {
    "scrolled": true
   },
   "outputs": [
    {
     "name": "stdout",
     "output_type": "stream",
     "text": [
      "Collecting package metadata (current_repodata.json): ...working... done\n",
      "Solving environment: ...working... done\n",
      "\n",
      "# All requested packages already installed.\n",
      "\n",
      "\n",
      "Note: you may need to restart the kernel to use updated packages.\n"
     ]
    }
   ],
   "source": [
    "conda install -c anaconda matplotlib"
   ]
  },
  {
   "cell_type": "code",
   "execution_count": 39,
   "metadata": {},
   "outputs": [
    {
     "name": "stdout",
     "output_type": "stream",
     "text": [
      "Collecting package metadata (current_repodata.json): ...working... done\n",
      "Solving environment: ...working... done\n",
      "\n",
      "## Package Plan ##\n",
      "\n",
      "  environment location: C:\\Users\\user\\Anaconda3\n",
      "\n",
      "  added / updated specs:\n",
      "    - graphviz\n",
      "\n",
      "\n",
      "The following packages will be downloaded:\n",
      "\n",
      "    package                    |            build\n",
      "    ---------------------------|-----------------\n",
      "    graphviz-2.38.0            |                4        37.7 MB  anaconda\n",
      "    ------------------------------------------------------------\n",
      "                                           Total:        37.7 MB\n",
      "\n",
      "The following NEW packages will be INSTALLED:\n",
      "\n",
      "  graphviz           anaconda/win-64::graphviz-2.38.0-4\n",
      "\n",
      "\n",
      "\n",
      "Downloading and Extracting Packages\n",
      "\n",
      "graphviz-2.38.0      | 37.7 MB   |            |   0% \n",
      "graphviz-2.38.0      | 37.7 MB   |            |   1% \n",
      "graphviz-2.38.0      | 37.7 MB   | 9          |   9% \n",
      "graphviz-2.38.0      | 37.7 MB   | #7         |  18% \n",
      "graphviz-2.38.0      | 37.7 MB   | ##4        |  25% \n",
      "graphviz-2.38.0      | 37.7 MB   | ###        |  30% \n",
      "graphviz-2.38.0      | 37.7 MB   | ###5       |  35% \n",
      "graphviz-2.38.0      | 37.7 MB   | ####2      |  43% \n",
      "graphviz-2.38.0      | 37.7 MB   | ####8      |  48% \n",
      "graphviz-2.38.0      | 37.7 MB   | #####5     |  55% \n",
      "graphviz-2.38.0      | 37.7 MB   | ######2    |  62% \n",
      "graphviz-2.38.0      | 37.7 MB   | #######    |  70% \n",
      "graphviz-2.38.0      | 37.7 MB   | #######6   |  77% \n",
      "graphviz-2.38.0      | 37.7 MB   | ########3  |  83% \n",
      "graphviz-2.38.0      | 37.7 MB   | ########9  |  90% \n",
      "graphviz-2.38.0      | 37.7 MB   | #########6 |  96% \n",
      "graphviz-2.38.0      | 37.7 MB   | ########## | 100% \n",
      "Preparing transaction: ...working... done\n",
      "Verifying transaction: ...working... done\n",
      "Executing transaction: ...working... done\n",
      "\n",
      "Note: you may need to restart the kernel to use updated packages.\n"
     ]
    }
   ],
   "source": [
    "conda install -c anaconda graphviz"
   ]
  },
  {
   "cell_type": "code",
   "execution_count": 51,
   "metadata": {},
   "outputs": [
    {
     "ename": "ImportError",
     "evalue": "You must install graphviz to plot tree",
     "output_type": "error",
     "traceback": [
      "\u001b[1;31m---------------------------------------------------------------------------\u001b[0m",
      "\u001b[1;31mModuleNotFoundError\u001b[0m                       Traceback (most recent call last)",
      "\u001b[1;32m~\\Anaconda3\\lib\\site-packages\\xgboost\\plotting.py\u001b[0m in \u001b[0;36mto_graphviz\u001b[1;34m(booster, fmap, num_trees, rankdir, yes_color, no_color, condition_node_params, leaf_node_params, **kwargs)\u001b[0m\n\u001b[0;32m    211\u001b[0m     \u001b[1;32mtry\u001b[0m\u001b[1;33m:\u001b[0m\u001b[1;33m\u001b[0m\u001b[1;33m\u001b[0m\u001b[0m\n\u001b[1;32m--> 212\u001b[1;33m         \u001b[1;32mfrom\u001b[0m \u001b[0mgraphviz\u001b[0m \u001b[1;32mimport\u001b[0m \u001b[0mDigraph\u001b[0m\u001b[1;33m\u001b[0m\u001b[1;33m\u001b[0m\u001b[0m\n\u001b[0m\u001b[0;32m    213\u001b[0m     \u001b[1;32mexcept\u001b[0m \u001b[0mImportError\u001b[0m\u001b[1;33m:\u001b[0m\u001b[1;33m\u001b[0m\u001b[1;33m\u001b[0m\u001b[0m\n",
      "\u001b[1;31mModuleNotFoundError\u001b[0m: No module named 'graphviz'",
      "\nDuring handling of the above exception, another exception occurred:\n",
      "\u001b[1;31mImportError\u001b[0m                               Traceback (most recent call last)",
      "\u001b[1;32m<ipython-input-51-64623a1be490>\u001b[0m in \u001b[0;36m<module>\u001b[1;34m\u001b[0m\n\u001b[0;32m      1\u001b[0m \u001b[0mxg_reg1\u001b[0m\u001b[1;33m=\u001b[0m\u001b[0mxgb\u001b[0m\u001b[1;33m.\u001b[0m\u001b[0mtrain\u001b[0m\u001b[1;33m(\u001b[0m\u001b[0mparams\u001b[0m\u001b[1;33m=\u001b[0m\u001b[0mparas\u001b[0m\u001b[1;33m,\u001b[0m \u001b[0mdtrain\u001b[0m\u001b[1;33m=\u001b[0m\u001b[0mdata_dim1\u001b[0m\u001b[1;33m,\u001b[0m \u001b[0mnum_boost_round\u001b[0m\u001b[1;33m=\u001b[0m\u001b[1;36m60\u001b[0m\u001b[1;33m)\u001b[0m\u001b[1;33m\u001b[0m\u001b[1;33m\u001b[0m\u001b[0m\n\u001b[0;32m      2\u001b[0m \u001b[1;32mimport\u001b[0m \u001b[0mmatplotlib\u001b[0m\u001b[1;33m.\u001b[0m\u001b[0mpyplot\u001b[0m \u001b[1;32mas\u001b[0m \u001b[0mplt\u001b[0m\u001b[1;33m\u001b[0m\u001b[1;33m\u001b[0m\u001b[0m\n\u001b[1;32m----> 3\u001b[1;33m \u001b[0mxgb\u001b[0m\u001b[1;33m.\u001b[0m\u001b[0mplot_tree\u001b[0m\u001b[1;33m(\u001b[0m\u001b[0mxg_reg1\u001b[0m\u001b[1;33m,\u001b[0m\u001b[0mnum_trees\u001b[0m\u001b[1;33m=\u001b[0m\u001b[1;36m0\u001b[0m\u001b[1;33m)\u001b[0m\u001b[1;33m\u001b[0m\u001b[1;33m\u001b[0m\u001b[0m\n\u001b[0m\u001b[0;32m      4\u001b[0m \u001b[0mplt\u001b[0m\u001b[1;33m.\u001b[0m\u001b[0mrcParams\u001b[0m\u001b[1;33m[\u001b[0m\u001b[1;34m'figure.figsize'\u001b[0m\u001b[1;33m]\u001b[0m\u001b[1;33m=\u001b[0m\u001b[1;33m[\u001b[0m\u001b[1;36m50\u001b[0m\u001b[1;33m,\u001b[0m\u001b[1;36m10\u001b[0m\u001b[1;33m]\u001b[0m\u001b[1;33m\u001b[0m\u001b[1;33m\u001b[0m\u001b[0m\n\u001b[0;32m      5\u001b[0m \u001b[0mplt\u001b[0m\u001b[1;33m.\u001b[0m\u001b[0mshow\u001b[0m\u001b[1;33m(\u001b[0m\u001b[1;33m)\u001b[0m\u001b[1;33m\u001b[0m\u001b[1;33m\u001b[0m\u001b[0m\n",
      "\u001b[1;32m~\\Anaconda3\\lib\\site-packages\\xgboost\\plotting.py\u001b[0m in \u001b[0;36mplot_tree\u001b[1;34m(booster, fmap, num_trees, rankdir, ax, **kwargs)\u001b[0m\n\u001b[0;32m    276\u001b[0m \u001b[1;33m\u001b[0m\u001b[0m\n\u001b[0;32m    277\u001b[0m     g = to_graphviz(booster, fmap=fmap, num_trees=num_trees,\n\u001b[1;32m--> 278\u001b[1;33m                     rankdir=rankdir, **kwargs)\n\u001b[0m\u001b[0;32m    279\u001b[0m \u001b[1;33m\u001b[0m\u001b[0m\n\u001b[0;32m    280\u001b[0m     \u001b[0ms\u001b[0m \u001b[1;33m=\u001b[0m \u001b[0mBytesIO\u001b[0m\u001b[1;33m(\u001b[0m\u001b[1;33m)\u001b[0m\u001b[1;33m\u001b[0m\u001b[1;33m\u001b[0m\u001b[0m\n",
      "\u001b[1;32m~\\Anaconda3\\lib\\site-packages\\xgboost\\plotting.py\u001b[0m in \u001b[0;36mto_graphviz\u001b[1;34m(booster, fmap, num_trees, rankdir, yes_color, no_color, condition_node_params, leaf_node_params, **kwargs)\u001b[0m\n\u001b[0;32m    212\u001b[0m         \u001b[1;32mfrom\u001b[0m \u001b[0mgraphviz\u001b[0m \u001b[1;32mimport\u001b[0m \u001b[0mDigraph\u001b[0m\u001b[1;33m\u001b[0m\u001b[1;33m\u001b[0m\u001b[0m\n\u001b[0;32m    213\u001b[0m     \u001b[1;32mexcept\u001b[0m \u001b[0mImportError\u001b[0m\u001b[1;33m:\u001b[0m\u001b[1;33m\u001b[0m\u001b[1;33m\u001b[0m\u001b[0m\n\u001b[1;32m--> 214\u001b[1;33m         \u001b[1;32mraise\u001b[0m \u001b[0mImportError\u001b[0m\u001b[1;33m(\u001b[0m\u001b[1;34m'You must install graphviz to plot tree'\u001b[0m\u001b[1;33m)\u001b[0m\u001b[1;33m\u001b[0m\u001b[1;33m\u001b[0m\u001b[0m\n\u001b[0m\u001b[0;32m    215\u001b[0m \u001b[1;33m\u001b[0m\u001b[0m\n\u001b[0;32m    216\u001b[0m     \u001b[1;32mif\u001b[0m \u001b[1;32mnot\u001b[0m \u001b[0misinstance\u001b[0m\u001b[1;33m(\u001b[0m\u001b[0mbooster\u001b[0m\u001b[1;33m,\u001b[0m \u001b[1;33m(\u001b[0m\u001b[0mBooster\u001b[0m\u001b[1;33m,\u001b[0m \u001b[0mXGBModel\u001b[0m\u001b[1;33m)\u001b[0m\u001b[1;33m)\u001b[0m\u001b[1;33m:\u001b[0m\u001b[1;33m\u001b[0m\u001b[1;33m\u001b[0m\u001b[0m\n",
      "\u001b[1;31mImportError\u001b[0m: You must install graphviz to plot tree"
     ]
    },
    {
     "data": {
      "image/png": "[encoded data removed]",
      "text/plain": [
       "<Figure size 432x288 with 1 Axes>"
      ]
     },
     "metadata": {
      "needs_background": "light"
     },
     "output_type": "display_data"
    }
   ],
   "source": [
    "xg_reg1=xgb.train(params=paras, dtrain=data_dim1, num_boost_round=60)\n",
    "import matplotlib.pyplot as plt\n",
    "xgb.plot_tree(xg_reg1,num_trees=0)\n",
    "plt.rcParams['figure.figsize']=[50,10]\n",
    "plt.show()"
   ]
  },
  {
   "cell_type": "code",
   "execution_count": 52,
   "metadata": {
    "scrolled": true
   },
   "outputs": [
    {
     "data": {
      "image/png": "[encoded data removed]",
      "text/plain": [
       "<Figure size 432x288 with 1 Axes>"
      ]
     },
     "metadata": {
      "needs_background": "light"
     },
     "output_type": "display_data"
    }
   ],
   "source": [
    "xgb.plot_importance(xg_reg1) \n",
    "plt.rcParams['figure.figsize']=[5,5]\n",
    "plt.show()"
   ]
  },
  {
   "cell_type": "code",
   "execution_count": 53,
   "metadata": {},
   "outputs": [
    {
     "name": "stderr",
     "output_type": "stream",
     "text": [
      "C:\\Users\\user\\Anaconda3\\lib\\site-packages\\sklearn\\model_selection\\_search.py:813: DeprecationWarning: The default of the `iid` parameter will change from True to False in version 0.22 and will be removed in 0.24. This will change numeric results when test-set sizes are unequal.\n",
      "  DeprecationWarning)\n"
     ]
    },
    {
     "data": {
      "text/plain": [
       "({'colsample_bytree': 0.75, 'max_depth': 5}, -11.661729924574782)"
      ]
     },
     "execution_count": 53,
     "metadata": {},
     "output_type": "execute_result"
    }
   ],
   "source": [
    "from sklearn.model_selection import GridSearchCV\n",
    "param={'max_depth':range(3,10,2),'colsample_bytree':[i/100.0 for i in range(75,90,5)]}\n",
    "xgsearch=GridSearchCV(estimator=xgb.XGBRegressor(objective='reg:squarederror', max_depth=5,alpha=10),param_grid=param,\n",
    "                      scoring='neg_mean_squared_error', cv=5)\n",
    "xgsearch.fit(X_train,y_train)\n",
    "xgsearch.best_params_, xgsearch.best_score_ #가장 좋은 것을 줘봐라 "
   ]
  },
  {
   "cell_type": "code",
   "execution_count": 54,
   "metadata": {},
   "outputs": [
    {
     "name": "stdout",
     "output_type": "stream",
     "text": [
      "dict_keys(['data', 'target', 'target_names', 'images', 'DESCR'])\n"
     ]
    }
   ],
   "source": [
    "# 0~9까지 손글씨를 random forest를 이용해 식별.\n",
    "# X 변수 : 8 by 8 pixel data를 64차원으로 전환한 것. \n",
    "from sklearn.datasets import load_digits\n",
    "digits=load_digits()\n",
    "print(digits.keys())"
   ]
  },
  {
   "cell_type": "code",
   "execution_count": 55,
   "metadata": {},
   "outputs": [
    {
     "data": {
      "image/png": "[encoded data removed]",
      "text/plain": [
       "<Figure size 432x432 with 64 Axes>"
      ]
     },
     "metadata": {},
     "output_type": "display_data"
    }
   ],
   "source": [
    "# 손글씨 이미지와 이에 대응하는 참 값\n",
    "import matplotlib.pyplot as plt\n",
    "fig=plt.figure(figsize=(6,6)) # figure size in inches\n",
    "for i in range(64):\n",
    "    ax=fig.add_subplot(8, 8, i+1, xticks=[], yticks=[])\n",
    "    ax.imshow(digits.images[i], cmap=plt.cm.binary, interpolation='nearest')\n",
    "    ax.text(0, 7, str(digits.target[i])) # ax.text는 참값을 손글씨 옆에 출력하는 명령어."
   ]
  },
  {
   "cell_type": "code",
   "execution_count": 56,
   "metadata": {},
   "outputs": [
    {
     "name": "stdout",
     "output_type": "stream",
     "text": [
      "              precision    recall  f1-score   support\n",
      "\n",
      "           0       1.00      0.97      0.99        38\n",
      "           1       1.00      0.98      0.99        44\n",
      "           2       0.95      1.00      0.98        42\n",
      "           3       0.98      0.96      0.97        46\n",
      "           4       0.97      1.00      0.99        37\n",
      "           5       0.98      0.98      0.98        48\n",
      "           6       1.00      1.00      1.00        52\n",
      "           7       1.00      0.96      0.98        50\n",
      "           8       0.94      0.98      0.96        46\n",
      "           9       0.98      0.98      0.98        47\n",
      "\n",
      "    accuracy                           0.98       450\n",
      "   macro avg       0.98      0.98      0.98       450\n",
      "weighted avg       0.98      0.98      0.98       450\n",
      "\n"
     ]
    }
   ],
   "source": [
    "# 정밀도 계산, \n",
    "from sklearn.model_selection import train_test_split\n",
    "X_train, X_test, y_train, y_test=train_test_split(digits.data, digits.target, random_state=0)\n",
    "\n",
    "from sklearn.ensemble import RandomForestClassifier\n",
    "rfc=RandomForestClassifier(n_estimators=1000)\n",
    "rfc.fit(X_train, y_train)\n",
    "y_test_pred=rfc.predict(X_test)\n",
    "\n",
    "from sklearn import metrics\n",
    "print(metrics.classification_report(y_test_pred, y_test))\n",
    "\n",
    "# Naive Bayes의 83%보다 월등하게 향상된 결과임. test data가 이렇게 나왔으니 train data는 거의 100%일 것임."
   ]
  },
  {
   "cell_type": "code",
   "execution_count": 116,
   "metadata": {},
   "outputs": [
    {
     "name": "stdout",
     "output_type": "stream",
     "text": [
      "MSE train : 1.518, test: 6.952\n",
      "[2.62579588e-02 3.60941532e-05 4.58915605e-03 6.07315182e-04\n",
      " 3.32122586e-02 2.53892433e-01 1.99368659e-02 9.12940490e-02\n",
      " 3.36040294e-03 1.08241231e-02 3.57339508e-02 1.07822168e-02\n",
      " 5.09473176e-01]\n"
     ]
    }
   ],
   "source": [
    "# House data에 기울기부스팅을 적용\n",
    "# M=120, 나무 깊이는 3\n",
    "import pandas as pd\n",
    "house = pd.read_csv('https://raw.githubusercontent.com/rasbt/'\n",
    "                 'python-machine-learning-book-2nd-edition'\n",
    "                 '/master/code/ch10/housing.data.txt',header=None,sep='\\s+')\n",
    "house.columns = ['CRIM', 'ZN', 'INDUS', 'CHAS', 'NOX', 'RM', 'AGE', 'DIS', 'RAD', 'TAX', 'PTRATIO', 'B', 'LSTAT', 'MEDV']\n",
    "from sklearn.tree import DecisionTreeRegressor\n",
    "X=house.iloc[:, :-1].values\n",
    "y=house['MEDV'].values\n",
    "\n",
    "import numpy as np\n",
    "from sklearn.model_selection import train_test_split\n",
    "from sklearn.metrics import mean_squared_error\n",
    "\n",
    "from sklearn.ensemble import GradientBoostingRegressor\n",
    "gbrg=GradientBoostingRegressor(n_estimators=120, max_depth=3)  #120개, depth=3으로 조금 깊게 만듬\n",
    "gbrg.fit(X_train, y_train)\n",
    "errors=[mean_squared_error(y_test, y_pred) for y_pred in gbrg.staged_predict(X_test)]\n",
    "bst_n_estimators=np.argmin(errors) # 가장 낮은 MSE를 보여주는 M을 결정함.\n",
    "gbrg_best=GradientBoostingRegressor(max_depth=3, n_estimators=bst_n_estimators)\n",
    "gbrg_best.fit(X_train, y_train)\n",
    "y_train_pred=gbrg_best.predict(X_train)\n",
    "y_test_pred=gbrg_best.predict(X_test)\n",
    "from sklearn.metrics import mean_squared_error\n",
    "\n",
    "print('MSE train : %0.3f, test: %0.3f' %(mean_squared_error(y_train, y_train_pred), mean_squared_error(y_test, y_test_pred)))\n",
    "print(gbrg_best.feature_importances_)\n",
    "#(CRIM', 'ZN', 'INDUS', 'CHAS', 'NOX', 'RM', 'AGE', 'DIS', 'RAD', 'TAX', 'PTRATIO', 'B', 'LSTAT') 중\n",
    "# 5번째 Nox의 기여도가 26.6%, 12번 LSTAT의 기여도가 51.4%로 \n",
    "# 두개의 특성변수가 78% 기여하는 것을 알 수 있음. 두개로 거의 다 설명함"
   ]
  },
  {
   "cell_type": "code",
   "execution_count": 104,
   "metadata": {},
   "outputs": [
    {
     "name": "stdout",
     "output_type": "stream",
     "text": [
      "MSE train : 6.730, test: 12.682\n",
      "[0.0673241  0.00791675 0.06686017 0.01599053 0.05294992 0.15713785\n",
      " 0.07551802 0.11204908 0.01319321 0.04973751 0.07106495 0.05514153\n",
      " 0.25511637]\n"
     ]
    }
   ],
   "source": [
    "gbrg1=GradientBoostingRegressor(loss='lad', n_estimators=120, max_depth=3) \n",
    "gbrg1.fit(X_train, y_train)\n",
    "errors1=[mean_squared_error(y_test, y_pred) for y_pred in gbrg1.staged_predict(X_test)]\n",
    "bst_n_estimators1=np.argmin(errors1)\n",
    "gbrg1_best=GradientBoostingRegressor(loss='lad',max_depth=3, n_estimators=bst_n_estimators1)\n",
    "gbrg1_best.fit(X_train, y_train)\n",
    "y_train_pred1=gbrg1_best.predict(X_train)\n",
    "y_test_pred1=gbrg1_best.predict(X_test)\n",
    "print('MSE train : %0.3f, test: %0.3f' %(mean_squared_error(y_train, y_train_pred1), mean_squared_error(y_test, y_test_pred1)))\n",
    "print(gbrg1_best.feature_importances_)"
   ]
  },
  {
   "cell_type": "code",
   "execution_count": 105,
   "metadata": {},
   "outputs": [
    {
     "name": "stdout",
     "output_type": "stream",
     "text": [
      "MSE train : 1.005, test: 10.649\n",
      "[3.07253926e-02 3.86955221e-04 1.23200468e-02 1.58635980e-03\n",
      " 2.52758821e-02 1.73042664e-01 8.23875756e-03 5.28236125e-02\n",
      " 1.00636378e-03 1.62879211e-02 2.62281057e-02 1.50284847e-02\n",
      " 6.37049454e-01]\n"
     ]
    }
   ],
   "source": [
    "gbrg2=GradientBoostingRegressor(loss='huber', n_estimators=120, max_depth=3) \n",
    "gbrg2.fit(X_train, y_train)\n",
    "errors2=[mean_squared_error(y_test, y_pred) for y_pred in gbrg2.staged_predict(X_test)]\n",
    "bst_n_estimators2=np.argmin(errors2)\n",
    "gbrg2_best=GradientBoostingRegressor(loss='huber',max_depth=3, n_estimators=bst_n_estimators2)\n",
    "gbrg2_best.fit(X_train, y_train)\n",
    "y_train_pred2=gbrg2_best.predict(X_train)\n",
    "y_test_pred2=gbrg2_best.predict(X_test)\n",
    "print('MSE train : %0.3f, test: %0.3f' %(mean_squared_error(y_train, y_train_pred2), mean_squared_error(y_test, y_test_pred2)))\n",
    "print(gbrg2_best.feature_importances_)"
   ]
  },
  {
   "cell_type": "code",
   "execution_count": 117,
   "metadata": {},
   "outputs": [
    {
     "name": "stdout",
     "output_type": "stream",
     "text": [
      "MSE train : 2.076, test: 8.956\n",
      "[3.03188316e-02 1.48717548e-05 5.33848422e-03 6.73022173e-04\n",
      " 4.57123918e-02 1.52208835e-01 1.49976502e-02 3.40777842e-02\n",
      " 3.03742650e-03 9.94101358e-03 3.91809357e-02 1.16835878e-02\n",
      " 6.52815165e-01]\n"
     ]
    }
   ],
   "source": [
    "gbrg3=GradientBoostingRegressor(loss='huber', n_estimators=100, max_depth=3) \n",
    "gbrg3.fit(X_train, y_train)\n",
    "errors3=[mean_squared_error(y_test, y_pred) for y_pred in gbrg3.staged_predict(X_test)]\n",
    "bst_n_estimators3=np.argmin(errors3)\n",
    "gbrg3_best=GradientBoostingRegressor(loss='huber',max_depth=3, n_estimators=bst_n_estimators3)\n",
    "gbrg3_best.fit(X_train, y_train)\n",
    "y_train_pred3=gbrg3_best.predict(X_train)\n",
    "y_test_pred3=gbrg3_best.predict(X_test)\n",
    "print('MSE train : %0.3f, test: %0.3f' %(mean_squared_error(y_train, y_train_pred3), mean_squared_error(y_test, y_test_pred3)))\n",
    "print(gbrg3_best.feature_importances_)"
   ]
  },
  {
   "cell_type": "code",
   "execution_count": 118,
   "metadata": {},
   "outputs": [],
   "source": [
    "train = pd.read_csv('flight_delays_train.csv')\n",
    "test = pd.read_csv('flight_delays_test.csv')\n",
    "X_train = train[['Distance', 'DepTime']].values\n",
    "y_train = train['dep_delayed_15min'].map({'Y': 1, 'N': 0}).values\n",
    "X_test = test[['Distance', 'DepTime']].values\n",
    "X_train_part, X_valid, y_train_part, y_valid = \\\n",
    "    train_test_split(X_train, y_train, \n",
    "                     test_size=0.3, random_state=17)\n"
   ]
  },
  {
   "cell_type": "code",
   "execution_count": 120,
   "metadata": {},
   "outputs": [
    {
     "data": {
      "text/plain": [
       "XGBClassifier(base_score=0.5, booster='gbtree', colsample_bylevel=1,\n",
       "              colsample_bynode=1, colsample_bytree=1, gamma=0,\n",
       "              learning_rate=0.1, max_delta_step=0, max_depth=3,\n",
       "              min_child_weight=1, missing=None, n_estimators=100, n_jobs=1,\n",
       "              nthread=None, objective='binary:logistic', random_state=0,\n",
       "              reg_alpha=0, reg_lambda=1, scale_pos_weight=1, seed=17,\n",
       "              silent=None, subsample=1, verbosity=1)"
      ]
     },
     "execution_count": 120,
     "metadata": {},
     "output_type": "execute_result"
    }
   ],
   "source": [
    "xgb_model = XGBClassifier(seed=17)\n",
    "xgb_model.fit(X_train, y_train)"
   ]
  },
  {
   "cell_type": "code",
   "execution_count": 125,
   "metadata": {},
   "outputs": [],
   "source": [
    "grb=GradientBoostingRegressor()\n",
    "grb.fit(X_train,y_train)\n",
    "y_train_pred=grb.predict(X_train)\n",
    "y_test_pred3=grb.predict(X_test)"
   ]
  },
  {
   "cell_type": "code",
   "execution_count": 101,
   "metadata": {},
   "outputs": [],
   "source": [
    "?GradientBoostingRegressor"
   ]
  },
  {
   "cell_type": "code",
   "execution_count": 58,
   "metadata": {},
   "outputs": [
    {
     "name": "stderr",
     "output_type": "stream",
     "text": [
      "C:\\Users\\user\\Anaconda3\\lib\\site-packages\\sklearn\\utils\\deprecation.py:85: DeprecationWarning: Function plot_partial_dependence is deprecated; The function ensemble.plot_partial_dependence has been deprecated in favour of sklearn.inspection.plot_partial_dependence in  0.21 and will be removed in 0.23.\n",
      "  warnings.warn(msg, category=DeprecationWarning)\n",
      "C:\\Users\\user\\Anaconda3\\lib\\site-packages\\sklearn\\utils\\deprecation.py:85: DeprecationWarning: Function partial_dependence is deprecated; The function ensemble.partial_dependence has been deprecated in favour of inspection.partial_dependence in 0.21 and will be removed in 0.23.\n",
      "  warnings.warn(msg, category=DeprecationWarning)\n",
      "C:\\Users\\user\\Anaconda3\\lib\\site-packages\\sklearn\\utils\\deprecation.py:85: DeprecationWarning: Function partial_dependence is deprecated; The function ensemble.partial_dependence has been deprecated in favour of inspection.partial_dependence in 0.21 and will be removed in 0.23.\n",
      "  warnings.warn(msg, category=DeprecationWarning)\n",
      "C:\\Users\\user\\Anaconda3\\lib\\site-packages\\sklearn\\utils\\deprecation.py:85: DeprecationWarning: Function partial_dependence is deprecated; The function ensemble.partial_dependence has been deprecated in favour of inspection.partial_dependence in 0.21 and will be removed in 0.23.\n",
      "  warnings.warn(msg, category=DeprecationWarning)\n"
     ]
    },
    {
     "data": {
      "image/png": "[encoded data removed]",
      "text/plain": [
       "<Figure size 360x360 with 3 Axes>"
      ]
     },
     "metadata": {
      "needs_background": "light"
     },
     "output_type": "display_data"
    }
   ],
   "source": [
    "# 위 두개의 특성변수의 증가에 따른 목표변수의 변화를 살펴봄.\n",
    "from sklearn.ensemble.partial_dependence import plot_partial_dependence\n",
    "fig=plot_partial_dependence(gbrg_best, X_train, features=(5,12,(5,12)))  "
   ]
  },
  {
   "cell_type": "code",
   "execution_count": 133,
   "metadata": {},
   "outputs": [
    {
     "data": {
      "image/png": "[encoded data removed]",
      "text/plain": [
       "<Figure size 360x360 with 3 Axes>"
      ]
     },
     "metadata": {
      "needs_background": "light"
     },
     "output_type": "display_data"
    }
   ],
   "source": [
    "from sklearn.ensemble.partial_dependence import plot_partial_dependence\n",
    "fig=plot_partial_dependence(grb, X_train,features=(0,1,(0,1)))  "
   ]
  },
  {
   "cell_type": "code",
   "execution_count": null,
   "metadata": {},
   "outputs": [],
   "source": []
  },
  {
   "cell_type": "code",
   "execution_count": null,
   "metadata": {},
   "outputs": [],
   "source": []
  }
 ],
 "metadata": {
  "kernelspec": {
   "display_name": "Python 3",
   "language": "python",
   "name": "python3"
  },
  "language_info": {
   "codemirror_mode": {
    "name": "ipython",
    "version": 3
   },
   "file_extension": ".py",
   "mimetype": "text/x-python",
   "name": "python",
   "nbconvert_exporter": "python",
   "pygments_lexer": "ipython3",
   "version": "3.7.3"
  }
 },
 "nbformat": 4,
 "nbformat_minor": 2
}
